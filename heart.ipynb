{
 "cells": [
  {
   "cell_type": "code",
   "execution_count": null,
   "id": "fb55b7cd",
   "metadata": {
    "scrolled": true
   },
   "outputs": [],
   "source": [
    "import math\n",
    "from turtle import *\n",
    "def hearta(k):\n",
    "    return 15*math.sin(k)**3\n",
    "def heartb(k):\n",
    "    return 12*math.cos(k)-5*\\\n",
    "    math.cos(2*k)-2*\\\n",
    "    math.cos(3*k)-\\\n",
    "    math.cos(4*k)\n",
    "speed(1000)\n",
    "bgcolor(\"black\")\n",
    "for i in range(6000):\n",
    "    goto(hearta(i)*20,heartb(i)*20)\n",
    "    for j in range(5):\n",
    "        color(\"red\")\n",
    "    goto(0,0)\n",
    "done()"
   ]
  },
  {
   "cell_type": "code",
   "execution_count": null,
   "id": "d9aaac28",
   "metadata": {},
   "outputs": [],
   "source": []
  }
 ],
 "metadata": {
  "kernelspec": {
   "display_name": "Python 3 (ipykernel)",
   "language": "python",
   "name": "python3"
  },
  "language_info": {
   "codemirror_mode": {
    "name": "ipython",
    "version": 3
   },
   "file_extension": ".py",
   "mimetype": "text/x-python",
   "name": "python",
   "nbconvert_exporter": "python",
   "pygments_lexer": "ipython3",
   "version": "3.11.4"
  }
 },
 "nbformat": 4,
 "nbformat_minor": 5
}
